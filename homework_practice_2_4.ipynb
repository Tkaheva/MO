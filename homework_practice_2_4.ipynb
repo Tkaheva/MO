{
  "nbformat": 4,
  "nbformat_minor": 0,
  "metadata": {
    "colab": {
      "provenance": [],
      "include_colab_link": true
    },
    "kernelspec": {
      "display_name": "Python 3",
      "language": "python",
      "name": "python3"
    },
    "language_info": {
      "codemirror_mode": {
        "name": "ipython",
        "version": 3
      },
      "file_extension": ".py",
      "mimetype": "text/x-python",
      "name": "python",
      "nbconvert_exporter": "python",
      "pygments_lexer": "ipython3",
      "version": "3.6.3"
    }
  },
  "cells": [
    {
      "cell_type": "markdown",
      "metadata": {
        "id": "view-in-github",
        "colab_type": "text"
      },
      "source": [
        "<a href=\"https://colab.research.google.com/github/Tkaheva/MO/blob/main/homework_practice_2_4.ipynb\" target=\"_parent\"><img src=\"https://colab.research.google.com/assets/colab-badge.svg\" alt=\"Open In Colab\"/></a>"
      ]
    },
    {
      "cell_type": "markdown",
      "metadata": {
        "id": "cisB24TazhU2"
      },
      "source": [
        "### Домашняя работа\n",
        "\n",
        "**Задание простого уровня** Мы говорили, что метрики качества нужны, чтобы сравнивать различные модели между собой. В задаче полиномиальной регрессии реализуйте код для выбора лучшей степени полиному:\n",
        "\n",
        "* возьмите все степени от 1 до 10 по порядку, без пропусков.\n",
        "* найдите степень полинома, где будет лучший r2-score\n",
        "* напишите код, который выводит самую подходящую степень полинома и соответствующий ей скор\n",
        "\n",
        "Эта процедура называется Grid Search и помогает найти лучшие параметры для модели.\n",
        "\n",
        "Обучите лучшую модель и сделайте predict"
      ]
    },
    {
      "cell_type": "markdown",
      "metadata": {
        "id": "z3dSmlAFzhU9"
      },
      "source": [
        "**Задание среднего уровня** Напишите класс для обучения модели, который содержит:\n",
        "\n",
        "* функцию `.fit(X, y)` , которая принимает на вход массив фичей `X`, массив таргетов `y` и обучает коэффициенты регрессии. Код для обучения взять из первого урока модуля *Постановка ML задачи линейной регрессии*\n",
        "* функцию `.predict(X)`, которая по массиву фичей `X` возвращает массив предсказаний `y`\n",
        "\n",
        "Нужно использовать код для аналитически вычисляемых коэффициентов.\n",
        "\n",
        "Это задание позволит понять, как работает линейная регрессия \"внутри\" библиотечной реализации."
      ]
    },
    {
      "cell_type": "code",
      "metadata": {
        "id": "rayvZFx1zhU9"
      },
      "source": [
        "class CustomLinearReg:\n",
        "    def __init__(self):\n",
        "        pass\n",
        "\n",
        "    def fit(X, y):\n",
        "        pass\n",
        "\n",
        "    def predict(X):\n",
        "        pass"
      ],
      "execution_count": 2,
      "outputs": []
    },
    {
      "cell_type": "markdown",
      "metadata": {
        "id": "uwWP7aPOzhVA"
      },
      "source": [
        "**Задание высокого уровня**\n",
        "\n",
        "1. разделите датасет с домами Бостона  (таргет и фичи) на две части: в одной части 80% датасета (назовём train) в другой 20% (назовём valid) с помощью функции `train_test_split` из библиотеки `sklearn`\n",
        "1. обучите модель только на train датасете\n",
        "1. постройте предсказания valid датасете\n",
        "1. Посчитайте  `r2 score` на валидационном сете\n",
        "\n",
        "После этого примените к обеим датасетам z-преобразование и повторите шаги 2-4. Как изменилась метрика r2?\n",
        "\n",
        "Это задание поможет понять, как валидировать линейную регрессию (и другие модели) на отложенной выборке."
      ]
    },
    {
      "cell_type": "markdown",
      "source": [
        "# Задание простого уровня"
      ],
      "metadata": {
        "id": "TtNwZbDBLO9p"
      }
    },
    {
      "cell_type": "code",
      "metadata": {
        "id": "f6p8B0VB5mHa",
        "colab": {
          "base_uri": "https://localhost:8080/",
          "height": 599
        },
        "outputId": "7873f732-4728-4412-e31d-05cbb2c83497"
      },
      "source": [
        "import numpy as np\n",
        "from sklearn.linear_model import LinearRegression\n",
        "from sklearn.preprocessing import PolynomialFeatures\n",
        "from sklearn.metrics import r2_score\n",
        "import matplotlib.pyplot as plt\n",
        "\n",
        "# Создадим пример данных\n",
        "np.random.seed(42)\n",
        "X = np.linspace(0, 10, 30)\n",
        "y = 2 * X + 3 * X**2 - 0.5 * X**3 + np.random.normal(0, 10, 30)\n",
        "\n",
        "# Grid Search для поиска лучшей степени полинома\n",
        "best_degree = 0\n",
        "best_r2 = -np.inf\n",
        "best_model = None\n",
        "best_predictions = None\n",
        "\n",
        "for degree in range(1, 11):\n",
        "    # Создаем полиномиальные признаки\n",
        "    poly = PolynomialFeatures(degree=degree)\n",
        "    X_poly = poly.fit_transform(X.reshape(-1, 1))\n",
        "\n",
        "    # Обучаем модель\n",
        "    model = LinearRegression()\n",
        "    model.fit(X_poly, y)\n",
        "\n",
        "    # Предсказания\n",
        "    y_pred = model.predict(X_poly)\n",
        "\n",
        "    # Вычисляем R2-score\n",
        "    r2 = r2_score(y, y_pred)\n",
        "\n",
        "    # Обновляем лучшую модель\n",
        "    if r2 > best_r2:\n",
        "        best_r2 = r2\n",
        "        best_degree = degree\n",
        "        best_model = model\n",
        "        best_poly = poly\n",
        "\n",
        "print(f\"Лучшая степень полинома: {best_degree}\")\n",
        "print(f\"Лучший R2-score: {best_r2:.4f}\")\n",
        "\n",
        "# Предсказания лучшей моделью\n",
        "X_test = np.linspace(0, 10, 100).reshape(-1, 1)\n",
        "X_test_poly = best_poly.transform(X_test)\n",
        "y_test_pred = best_model.predict(X_test_poly)\n",
        "\n",
        "# Визуализация\n",
        "plt.figure(figsize=(12, 6))\n",
        "plt.scatter(X, y, color='blue', alpha=0.7, label='Исходные данные')\n",
        "plt.plot(X_test, y_test_pred, color='red', linewidth=2, label=f'Полином {best_degree} степени')\n",
        "plt.xlabel('X')\n",
        "plt.ylabel('y')\n",
        "plt.title(f'Полиномиальная регрессия (степень {best_degree}, R2 = {best_r2:.4f})')\n",
        "plt.legend()\n",
        "plt.grid(True, alpha=0.3)\n",
        "plt.show()"
      ],
      "execution_count": 4,
      "outputs": [
        {
          "output_type": "stream",
          "name": "stdout",
          "text": [
            "Лучшая степень полинома: 10\n",
            "Лучший R2-score: 0.9846\n"
          ]
        },
        {
          "output_type": "display_data",
          "data": {
            "text/plain": [
              "<Figure size 1200x600 with 1 Axes>"
            ],
            "image/png": "[encoded data removed]"
          },
          "metadata": {}
        }
      ]
    },
    {
      "cell_type": "markdown",
      "source": [
        "# Задание среднего уровня"
      ],
      "metadata": {
        "id": "DWgnTA1zLYLn"
      }
    },
    {
      "cell_type": "code",
      "source": [
        "class CustomLinearReg:\n",
        "    def __init__(self):\n",
        "        self.coef_ = None\n",
        "        self.intercept_ = None\n",
        "\n",
        "    def fit(self, X, y):\n",
        "        \"\"\"\n",
        "        Обучение модели с аналитическим решением\n",
        "        w = (X^T * X)^(-1) * X^T * y\n",
        "        \"\"\"\n",
        "        # Добавляем столбец единиц для intercept\n",
        "        X_with_intercept = np.column_stack([np.ones(X.shape[0]), X])\n",
        "\n",
        "        # Аналитическое решение: w = (X^T * X)^(-1) * X^T * y\n",
        "        try:\n",
        "            w = np.linalg.inv(X_with_intercept.T @ X_with_intercept) @ X_with_intercept.T @ y\n",
        "            self.intercept_ = w[0]\n",
        "            self.coef_ = w[1:]\n",
        "        except np.linalg.LinAlgError:\n",
        "            # Если матрица вырождена, используем псевдообратную\n",
        "            w = np.linalg.pinv(X_with_intercept.T @ X_with_intercept) @ X_with_intercept.T @ y\n",
        "            self.intercept_ = w[0]\n",
        "            self.coef_ = w[1:]\n",
        "\n",
        "    def predict(self, X):\n",
        "        \"\"\"Предсказание значений\"\"\"\n",
        "        if self.coef_ is None or self.intercept_ is None:\n",
        "            raise ValueError(\"Модель не обучена. Сначала вызовите fit()\")\n",
        "\n",
        "        return self.intercept_ + X @ self.coef_\n",
        "\n",
        "# Тестирование кастомной модели\n",
        "np.random.seed(42)\n",
        "X_test_custom = np.random.randn(100, 2)\n",
        "y_test_custom = 3 + 2 * X_test_custom[:, 0] + 1.5 * X_test_custom[:, 1] + np.random.normal(0, 0.1, 100)\n",
        "\n",
        "custom_model = CustomLinearReg()\n",
        "custom_model.fit(X_test_custom, y_test_custom)\n",
        "\n",
        "print(\"Кастомная модель:\")\n",
        "print(f\"Intercept: {custom_model.intercept_:.4f}\")\n",
        "print(f\"Coefficients: {custom_model.coef_}\")\n",
        "\n",
        "# Сравнение с sklearn\n",
        "from sklearn.linear_model import LinearRegression\n",
        "sklearn_model = LinearRegression()\n",
        "sklearn_model.fit(X_test_custom, y_test_custom)\n",
        "\n",
        "print(\"\\nSklearn модель:\")\n",
        "print(f\"Intercept: {sklearn_model.intercept_:.4f}\")\n",
        "print(f\"Coefficients: {sklearn_model.coef_}\")\n",
        "\n",
        "# Проверка предсказаний\n",
        "custom_pred = custom_model.predict(X_test_custom)\n",
        "sklearn_pred = sklearn_model.predict(X_test_custom)\n",
        "\n",
        "print(f\"\\nR2-score кастомной модели: {r2_score(y_test_custom, custom_pred):.4f}\")\n",
        "print(f\"R2-score sklearn модели: {r2_score(y_test_custom, sklearn_pred):.4f}\")"
      ],
      "metadata": {
        "id": "z89Mzu2ELeLS",
        "outputId": "3c3ac63d-572b-4c26-d8db-79e2a221c4d5",
        "colab": {
          "base_uri": "https://localhost:8080/"
        }
      },
      "execution_count": 5,
      "outputs": [
        {
          "output_type": "stream",
          "name": "stdout",
          "text": [
            "Кастомная модель:\n",
            "Intercept: 3.0093\n",
            "Coefficients: [2.01907203 1.48278579]\n",
            "\n",
            "Sklearn модель:\n",
            "Intercept: 3.0093\n",
            "Coefficients: [2.01907203 1.48278579]\n",
            "\n",
            "R2-score кастомной модели: 0.9979\n",
            "R2-score sklearn модели: 0.9979\n"
          ]
        }
      ]
    },
    {
      "cell_type": "markdown",
      "source": [
        "# Задание высокого уровня"
      ],
      "metadata": {
        "id": "tePeT-a4Lh82"
      }
    },
    {
      "cell_type": "code",
      "source": [
        "from sklearn.datasets import fetch_california_housing\n",
        "from sklearn.model_selection import train_test_split\n",
        "from sklearn.preprocessing import StandardScaler\n",
        "from sklearn.linear_model import LinearRegression\n",
        "from sklearn.metrics import r2_score\n",
        "\n",
        "# Загружаем датасет (Boston deprecated, используем California housing)\n",
        "housing = fetch_california_housing()\n",
        "X, y = housing.data, housing.target\n",
        "\n",
        "print(f\"Размер датасета: {X.shape}\")\n",
        "\n",
        "# 1. Разделение на train/valid\n",
        "X_train, X_valid, y_train, y_valid = train_test_split(\n",
        "    X, y, test_size=0.2, random_state=42\n",
        ")\n",
        "\n",
        "print(f\"Train set: {X_train.shape}\")\n",
        "print(f\"Valid set: {X_valid.shape}\")\n",
        "\n",
        "# Без нормализации\n",
        "model_no_norm = LinearRegression()\n",
        "model_no_norm.fit(X_train, y_train)\n",
        "y_pred_no_norm = model_no_norm.predict(X_valid)\n",
        "r2_no_norm = r2_score(y_valid, y_pred_no_norm)\n",
        "\n",
        "print(f\"\\nБез нормализации:\")\n",
        "print(f\"R2-score на валидации: {r2_no_norm:.4f}\")\n",
        "\n",
        "# С z-нормализацией\n",
        "scaler = StandardScaler()\n",
        "X_train_scaled = scaler.fit_transform(X_train)\n",
        "X_valid_scaled = scaler.transform(X_valid)\n",
        "\n",
        "model_with_norm = LinearRegression()\n",
        "model_with_norm.fit(X_train_scaled, y_train)\n",
        "y_pred_with_norm = model_with_norm.predict(X_valid_scaled)\n",
        "r2_with_norm = r2_score(y_valid, y_pred_with_norm)\n",
        "\n",
        "print(f\"\\nС z-нормализацией:\")\n",
        "print(f\"R2-score на валидации: {r2_with_norm:.4f}\")\n",
        "\n",
        "# Сравнение\n",
        "print(f\"\\nИзменение R2-score: {r2_with_norm - r2_no_norm:.4f}\")\n",
        "\n",
        "# Нормализация таргета тоже\n",
        "scaler_y = StandardScaler()\n",
        "y_train_scaled = scaler_y.fit_transform(y_train.reshape(-1, 1)).flatten()\n",
        "y_valid_scaled = scaler_y.transform(y_valid.reshape(-1, 1)).flatten()\n",
        "\n",
        "model_full_norm = LinearRegression()\n",
        "model_full_norm.fit(X_train_scaled, y_train_scaled)\n",
        "y_pred_full_norm = model_full_norm.predict(X_valid_scaled)\n",
        "r2_full_norm = r2_score(y_valid_scaled, y_pred_full_norm)\n",
        "\n",
        "print(f\"\\nС полной нормализацией (X и y):\")\n",
        "print(f\"R2-score на валидации: {r2_full_norm:.4f}\")"
      ],
      "metadata": {
        "id": "ExwhYpIkLpjr",
        "outputId": "03027340-eb70-4f1d-e0be-eeca43a1a17c",
        "colab": {
          "base_uri": "https://localhost:8080/"
        }
      },
      "execution_count": 6,
      "outputs": [
        {
          "output_type": "stream",
          "name": "stdout",
          "text": [
            "Размер датасета: (20640, 8)\n",
            "Train set: (16512, 8)\n",
            "Valid set: (4128, 8)\n",
            "\n",
            "Без нормализации:\n",
            "R2-score на валидации: 0.5758\n",
            "\n",
            "С z-нормализацией:\n",
            "R2-score на валидации: 0.5758\n",
            "\n",
            "Изменение R2-score: -0.0000\n",
            "\n",
            "С полной нормализацией (X и y):\n",
            "R2-score на валидации: 0.5758\n"
          ]
        }
      ]
    }
  ]
}